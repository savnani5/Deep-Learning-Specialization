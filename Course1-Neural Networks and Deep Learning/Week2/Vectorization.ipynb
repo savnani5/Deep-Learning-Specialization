{
 "cells": [
  {
   "cell_type": "code",
   "execution_count": 11,
   "id": "b8795c1c",
   "metadata": {},
   "outputs": [
    {
     "name": "stdout",
     "output_type": "stream",
     "text": [
      "Comparison\n",
      "c=  249840.66058322802\n",
      "Vectorized version:  1.0004043579101562 ms\n",
      "c=  249840.66058323352\n",
      "For loop version:  494.1244125366211 ms\n"
     ]
    }
   ],
   "source": [
    "import numpy as np \n",
    "import time\n",
    "\n",
    "print(\"Comparison\")\n",
    "\n",
    "a = np.random.rand(1000000)\n",
    "b = np.random.rand(1000000)\n",
    "\n",
    "tick = time.time()\n",
    "c = np.dot(a,b)\n",
    "\n",
    "print(\"c= \", c)\n",
    "print(\"Vectorized version: \", 1000*(time.time()-tick), \"ms\")\n",
    "\n",
    "tick = time.time()\n",
    "\n",
    "c=0\n",
    "for i in range(1000000):\n",
    "    c+=a[i]*b[i]\n",
    "\n",
    "print(\"c= \", c)\n",
    "    \n",
    "print(\"For loop version: \", 1000*(time.time()-tick), \"ms\")\n",
    "\n"
   ]
  },
  {
   "cell_type": "code",
   "execution_count": null,
   "id": "f945f089",
   "metadata": {},
   "outputs": [],
   "source": [
    "F"
   ]
  }
 ],
 "metadata": {
  "kernelspec": {
   "display_name": "env",
   "language": "python",
   "name": "env"
  },
  "language_info": {
   "codemirror_mode": {
    "name": "ipython",
    "version": 3
   },
   "file_extension": ".py",
   "mimetype": "text/x-python",
   "name": "python",
   "nbconvert_exporter": "python",
   "pygments_lexer": "ipython3",
   "version": "3.8.6"
  }
 },
 "nbformat": 4,
 "nbformat_minor": 5
}
